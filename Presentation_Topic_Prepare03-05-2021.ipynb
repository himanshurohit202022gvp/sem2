{
 "cells": [
  {
   "cell_type": "code",
   "execution_count": 27,
   "id": "dbb88392",
   "metadata": {},
   "outputs": [
    {
     "name": "stdout",
     "output_type": "stream",
     "text": [
      "Enter PasswordPriyanshu\n",
      "Correct !!!\n"
     ]
    }
   ],
   "source": [
    "#Print Function Test\n",
    "print(\"Odd\" if int(input(\"Enter number\"))%2 else \"Even\")\n",
    "print(\"Correct !!!\" if input(\"Enter Password\")=='Priyanshu' else \"Opps please Enter Correct Password !\")"
   ]
  },
  {
   "cell_type": "code",
   "execution_count": 5,
   "id": "39aaedc5",
   "metadata": {},
   "outputs": [
    {
     "name": "stdout",
     "output_type": "stream",
     "text": [
      "Enter three input1 Himanshu 1997\n"
     ]
    }
   ],
   "source": [
    "#multiple input with single line\n",
    "a,b,c=input(\"Enter three input\").split()"
   ]
  },
  {
   "cell_type": "code",
   "execution_count": 37,
   "id": "a4e3c553",
   "metadata": {},
   "outputs": [
    {
     "name": "stdout",
     "output_type": "stream",
     "text": [
      "8000\n",
      "9\n",
      "2\n"
     ]
    },
    {
     "ename": "TypeError",
     "evalue": "'int' object is not callable",
     "output_type": "error",
     "traceback": [
      "\u001b[1;31m---------------------------------------------------------------------------\u001b[0m",
      "\u001b[1;31mTypeError\u001b[0m                                 Traceback (most recent call last)",
      "\u001b[1;32m<ipython-input-37-d42a97a4c499>\u001b[0m in \u001b[0;36m<module>\u001b[1;34m\u001b[0m\n\u001b[0;32m      5\u001b[0m \u001b[0mprint\u001b[0m\u001b[1;33m(\u001b[0m\u001b[0mexp\u001b[0m\u001b[1;33m)\u001b[0m\u001b[1;33m\u001b[0m\u001b[1;33m\u001b[0m\u001b[0m\n\u001b[0;32m      6\u001b[0m \u001b[0mprint\u001b[0m\u001b[1;33m(\u001b[0m\u001b[0msalary\u001b[0m\u001b[1;33m)\u001b[0m\u001b[1;33m\u001b[0m\u001b[1;33m\u001b[0m\u001b[0m\n\u001b[1;32m----> 7\u001b[1;33m \u001b[0mx\u001b[0m\u001b[1;33m=\u001b[0m\u001b[0mint\u001b[0m\u001b[1;33m(\u001b[0m\u001b[0minput\u001b[0m\u001b[1;33m(\u001b[0m\u001b[1;33m)\u001b[0m\u001b[1;33m)\u001b[0m\u001b[1;33m\u001b[0m\u001b[1;33m\u001b[0m\u001b[0m\n\u001b[0m\u001b[0;32m      8\u001b[0m \u001b[0meleme\u001b[0m\u001b[1;33m=\u001b[0m\u001b[0mint\u001b[0m\u001b[1;33m(\u001b[0m\u001b[0minput\u001b[0m\u001b[1;33m(\u001b[0m\u001b[1;33m)\u001b[0m\u001b[1;33m)\u001b[0m\u001b[1;33m\u001b[0m\u001b[1;33m\u001b[0m\u001b[0m\n",
      "\u001b[1;31mTypeError\u001b[0m: 'int' object is not callable"
     ]
    }
   ],
   "source": [
    "#Swap two numbers \n",
    "salary=8000\n",
    "exp=9\n",
    "salary,exp=exp,salary\n",
    "print(exp)\n",
    "print(salary)\n"
   ]
  },
  {
   "cell_type": "code",
   "execution_count": null,
   "id": "cff9133c",
   "metadata": {},
   "outputs": [],
   "source": [
    "#remove duplicate data\n",
    "li=[1,2,8,1,2,3,5,6,8,1,2,5,6,3,5,6,3,2,3]\n",
    "print(list(set(li)))\n",
    "print(li)\n",
    "li2=list(set(li))\n",
    "print(li2)\n",
    "\n",
    "    "
   ]
  },
  {
   "cell_type": "code",
   "execution_count": 51,
   "id": "30b2821f",
   "metadata": {},
   "outputs": [
    {
     "name": "stdout",
     "output_type": "stream",
     "text": [
      "Enter elementsHi\n",
      "Enter elements2\n",
      "Enter elements2\n",
      "Enter elementshi\n",
      "['Hi', '2', '2', 'hi']\n",
      "['2', 'Hi', 'hi']\n"
     ]
    }
   ],
   "source": [
    "# How to solve this type of error TypeError: 'int' object is not callable\n",
    "name2=[]\n",
    "#max11=int(input())\n",
    "\n",
    "for x in range(0,4):\n",
    "    name1=input(\"Enter elements\")\n",
    "    name2.append(name1)\n",
    "print(name2)\n",
    "name3=list(set(name2))\n",
    "print(name3)"
   ]
  },
  {
   "cell_type": "code",
   "execution_count": 58,
   "id": "e9bd5ef9",
   "metadata": {},
   "outputs": [
    {
     "name": "stdout",
     "output_type": "stream",
     "text": [
      "[[1, 2], [2, 4], [3, 5], [4, 6], ['u', 8]]\n"
     ]
    }
   ],
   "source": [
    "matrix=[[1,2,3,4,'u'],[2,4,5,6,8,3,5,6,1]]\n",
    "\n",
    "# matrix_t=[list(i) for i in zip(*matrix)]\n",
    "# print(matrix_t)\n",
    "\n"
   ]
  },
  {
   "cell_type": "code",
   "execution_count": 72,
   "id": "3f9a4bc8",
   "metadata": {},
   "outputs": [
    {
     "name": "stdout",
     "output_type": "stream",
     "text": [
      "[(1,), (2,), (3,), (4,)]\n",
      "[(1, 'a'), (2, 'b'), (3, 'c'), (4, 'd'), (None, 'e')]\n",
      "(1, 2, 3)\n",
      "('Abc', 'dce', 'xyz')\n",
      "{(2, 'bcd'), (1, 'abc')}\n"
     ]
    },
    {
     "ename": "TypeError",
     "evalue": "'int' object is not callable",
     "output_type": "error",
     "traceback": [
      "\u001b[1;31m---------------------------------------------------------------------------\u001b[0m",
      "\u001b[1;31mTypeError\u001b[0m                                 Traceback (most recent call last)",
      "\u001b[1;32m<ipython-input-72-97c7200ff3ff>\u001b[0m in \u001b[0;36m<module>\u001b[1;34m\u001b[0m\n\u001b[0;32m     12\u001b[0m \u001b[0mprint\u001b[0m\u001b[1;33m(\u001b[0m\u001b[0mleader\u001b[0m\u001b[1;33m)\u001b[0m\u001b[1;33m\u001b[0m\u001b[1;33m\u001b[0m\u001b[0m\n\u001b[0;32m     13\u001b[0m \u001b[0mprint\u001b[0m\u001b[1;33m(\u001b[0m\u001b[0mrecord1\u001b[0m\u001b[1;33m)\u001b[0m\u001b[1;33m\u001b[0m\u001b[1;33m\u001b[0m\u001b[0m\n\u001b[1;32m---> 14\u001b[1;33m \u001b[0mtype\u001b[0m\u001b[1;33m(\u001b[0m\u001b[0mrecord1\u001b[0m\u001b[1;33m)\u001b[0m\u001b[1;33m\u001b[0m\u001b[1;33m\u001b[0m\u001b[0m\n\u001b[0m",
      "\u001b[1;31mTypeError\u001b[0m: 'int' object is not callable"
     ]
    }
   ],
   "source": [
    "from itertools import zip_longest\n",
    "idd=[1,2,3,4]\n",
    "idd2=['a','b','c','d','e']\n",
    "id1=zip(idd)\n",
    "id2=zip_longest(idd,idd2)\n",
    "print(list(id1))\n",
    "print(list(id2))\n",
    "record=[(1,'Abc'),(2,'dce'),(3,'xyz')]\n",
    "record1={(1,'abc'),(2,'bcd')}\n",
    "idd3,leader=zip(*record)\n",
    "print(idd3)\n",
    "print(leader)\n",
    "print(record1)\n",
    "type(record1)"
   ]
  },
  {
   "cell_type": "code",
   "execution_count": null,
   "id": "f7a622e4",
   "metadata": {},
   "outputs": [],
   "source": []
  }
 ],
 "metadata": {
  "kernelspec": {
   "display_name": "Python 3",
   "language": "python",
   "name": "python3"
  },
  "language_info": {
   "codemirror_mode": {
    "name": "ipython",
    "version": 3
   },
   "file_extension": ".py",
   "mimetype": "text/x-python",
   "name": "python",
   "nbconvert_exporter": "python",
   "pygments_lexer": "ipython3",
   "version": "3.6.7"
  }
 },
 "nbformat": 4,
 "nbformat_minor": 5
}
