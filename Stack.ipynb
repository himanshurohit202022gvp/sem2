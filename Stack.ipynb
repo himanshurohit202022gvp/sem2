{
 "cells": [
  {
   "cell_type": "code",
   "execution_count": null,
   "id": "9bddb57d",
   "metadata": {},
   "outputs": [
    {
     "name": "stdout",
     "output_type": "stream",
     "text": [
      "****This is Stack program in Python****\n",
      "Now please enter your choice for stack operation\n",
      "Enter 1 for push elements\n",
      "Enter 2 for pop elements\n",
      "2\n",
      "Stack is Empty\n",
      "1\n",
      "Enter Maximum number of elements that you want to insert in stack\n",
      "2\n",
      "3\n",
      "6\n",
      "[3, 6]\n",
      "2\n",
      "Poped elementis : 6\n",
      "[3]\n",
      "Poped elementis : 3\n",
      "[]\n",
      "Stack is Empty\n"
     ]
    }
   ],
   "source": [
    "print(\"****This is Stack program in Python****\")\n",
    "stack=[]\n",
    "empty=0\n",
    "\n",
    "def push():\n",
    "    print(\"Enter Maximum number of elements that you want to insert in stack\")\n",
    "    stackmax=(int(input()))\n",
    "\n",
    "    for i in range(0,stackmax):\n",
    "        elements=(int(input()))\n",
    "        stack.append(elements)\n",
    "    print(stack)\n",
    "\n",
    "def popop():\n",
    "\n",
    "    try:\n",
    "        stackmax<0\n",
    "        while True:\n",
    "                if stackmax<0:\n",
    "                    print(\"Stack is Epmty!!!!\")\n",
    "                    \n",
    "                else:\n",
    "                    print(\"Poped elementis :\",stack.pop())\n",
    "                    print(stack)\n",
    "    except:\n",
    "        print(\"Stack is Empty\")\n",
    "\n",
    "print(\"Now please enter your choice for stack operation\")\n",
    "print(\"Enter 1 for push elements\")\n",
    "print(\"Enter 2 for pop elements\")\n",
    "try:\n",
    "    while True:\n",
    "        ch=(int(input()))\n",
    "        if ch==1:\n",
    "            push()\n",
    "        elif ch==2:\n",
    "            popop()\n",
    "        else:\n",
    "            print('Enter valid choice')\n",
    "            \n",
    "except:\n",
    "    print(stack)"
   ]
  },
  {
   "cell_type": "code",
   "execution_count": null,
   "id": "305f1a1a",
   "metadata": {},
   "outputs": [],
   "source": []
  },
  {
   "cell_type": "code",
   "execution_count": null,
   "id": "d997f525",
   "metadata": {},
   "outputs": [],
   "source": []
  }
 ],
 "metadata": {
  "kernelspec": {
   "display_name": "Python 3",
   "language": "python",
   "name": "python3"
  },
  "language_info": {
   "codemirror_mode": {
    "name": "ipython",
    "version": 3
   },
   "file_extension": ".py",
   "mimetype": "text/x-python",
   "name": "python",
   "nbconvert_exporter": "python",
   "pygments_lexer": "ipython3",
   "version": "3.6.7"
  }
 },
 "nbformat": 4,
 "nbformat_minor": 5
}
