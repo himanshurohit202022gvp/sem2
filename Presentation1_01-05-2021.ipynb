{
 "cells": [
  {
   "cell_type": "code",
   "execution_count": 2,
   "id": "ea217fed",
   "metadata": {},
   "outputs": [
    {
     "name": "stdout",
     "output_type": "stream",
     "text": [
      "Computer Science MCA\n",
      "Gujarat Vidyapith Computer Science MCA\n",
      "101 Ahmedabad Gujarat Vidyapith Ahmedabad Computer Science MCA Ashram Road MCA First Year\n",
      "101 Ahmedabad\n",
      "A*B*C\n",
      "A*B*C*****\n",
      "a*b*c\n",
      "******Hello this is my lstrip Hello this is my lstrip**********\n",
      "Hello this is my lstrip\n",
      "th3s 3s tr1nsl1t2 2x1mpl2!!!\n",
      "['This', 'is', 'really', 'split', 'function', 'wow!!!']\n",
      "['Th', 's ', 's really spl', 't funct', 'on wow!!!']\n",
      "This Is Really Split Function Wow!!!\n",
      "time.localtime() %s: time.struct_time(tm_year=2021, tm_mon=5, tm_mday=3, tm_hour=16, tm_min=15, tm_sec=59, tm_wday=0, tm_yday=123, tm_isdst=0)\n",
      "Start :Mon May  3 16:15:59 2021\n",
      "End :Mon May  3 16:16:04 2021\n"
     ]
    }
   ],
   "source": [
    "#Use 'join' instead of '+' to perform string concatenation\n",
    "str0='Computer Science'+' '+'MCA'\n",
    "#str4=int(input())\n",
    "str3='101' +' '+'Ahmedabad'\n",
    "str1='Gujarat'+' '+'Vidyapith'+' '+str0\n",
    "\n",
    "str2=\" \".join([str3,'Gujarat','Vidyapith','Ahmedabad',str0,'Ashram Road','MCA First Year'])#It is accept only String type data it is histroginious collection,it is also like as tupple,join accept only 1 argument\n",
    "print(str0)\n",
    "print(str1)\n",
    "print(str2)\n",
    "print(str3)\n",
    "\n",
    "#02-05-2021\n",
    "s1=\"*\"\n",
    "\n",
    "s2=(\"A\",\"B\",\"C\")\n",
    "s3=s1.join(s2)\n",
    "print(s3)\n",
    "print(s3.ljust(10,'*'))\n",
    "print(s3.lower())\n",
    "s4=\"Hello this is my lstrip\"\n",
    "s5=\"******Hello this is my lstrip**********\"\n",
    "print(s5.rstrip('*'),s5.lstrip('*'))\n",
    "print(s5.strip('*'))\n",
    "\n",
    "intab=\"aeiou\"\n",
    "outtab=\"12345\"\n",
    "transtab=str.maketrans(intab,outtab)\n",
    "str=\"this is translate example!!!\"\n",
    "print(str.translate(transtab))\n",
    "s6=\"This is really split function wow!!!\"\n",
    "print(s6.split(' '))\n",
    "print(s6.split('i'))\n",
    "s7=s6.split('l')\n",
    "print(s6.title())\n",
    "s7\n",
    "\n",
    "# name1=[]\n",
    "# x1=int(input())\n",
    "# for y in range(0,x1):\n",
    "#     y1=input(\"Enter name\")\n",
    "#     #name1.append(y1)\n",
    "#     #sr=name1[y]\n",
    "#     #sr1=\" \".join([y1])\n",
    "# print(y1.title())\n",
    "import time\n",
    "print(\"time.localtime() %s:\",time.localtime())\n",
    "\n",
    "print(\"Start :%s\"%time.ctime())\n",
    "time.sleep(5)\n",
    "print(\"End :%s\"%time.ctime())"
   ]
  },
  {
   "cell_type": "code",
   "execution_count": 53,
   "id": "b09cff6e",
   "metadata": {},
   "outputs": [
    {
     "name": "stdout",
     "output_type": "stream",
     "text": [
      "[2, 4, 6, 8, 10]\n",
      "[1, 3, 5, 7, 9]\n"
     ]
    }
   ],
   "source": [
    "#Store even numbers in list\n",
    "numbers=[1,2,3,4,5,6,7,8,9,10]\n",
    "\n",
    "#using for loop and if statement seperatelly\n",
    "even_num=[]\n",
    "for num in numbers:\n",
    "    if num%2==0:\n",
    "        even_num.append(num)\n",
    "print(even_num)\n",
    "\n",
    "#for loop and if statement both are write in list body\n",
    "even_num1=[num1 for num1 in numbers if num1%2!=0]\n",
    "print(even_num1)\n",
    "\n"
   ]
  },
  {
   "cell_type": "code",
   "execution_count": 9,
   "id": "424fc426",
   "metadata": {},
   "outputs": [
    {
     "name": "stdout",
     "output_type": "stream",
     "text": [
      "This is using for loop with list lenght\n",
      "0 a\n",
      "1 b\n",
      "2 c\n",
      "3 d\n",
      "4 e\n",
      "5 f\n",
      "6 g\n",
      "**************************\n",
      "-    0\t -> *a*\n",
      "-    1\t -> *b*\n",
      "-    2\t -> *c*\n",
      "-    3\t -> *d*\n",
      "-    4\t -> *e*\n",
      "-    5\t -> *f*\n",
      "-    6\t -> *g*\n",
      "**************************\n",
      "This is using 'range' Function\n",
      "0 a\n",
      "1 b\n",
      "2 c\n",
      "3 d\n",
      "4 e\n",
      "5 f\n",
      "6 g\n",
      "7 h\n",
      "This is using 'zip' function\n",
      "0 a\n",
      "1 b\n",
      "2 c\n",
      "3 d\n",
      "4 e\n",
      "5 f\n",
      "6 g\n"
     ]
    }
   ],
   "source": [
    "#rollno=[0,2,4,6,8,10,12,14,16,18,20,22,24,26]\n",
    "#How to read data from list using different method\n",
    "rollno=[0,1,2,3,4,5,6]\n",
    "name=['a','b','c','d','e','f','g','h']\n",
    "\n",
    "#1-using for loop and one list lenght \n",
    "print(\"This is using for loop with list lenght\")\n",
    "for serial in rollno:\n",
    "    print(serial,name[serial])\n",
    "    \n",
    "#2-just format function usage and read both list data at same time with the help of one list lenght\n",
    "print('**************************')\n",
    "for st in rollno:\n",
    "    print(\"-{:>5}\\t -> *{}*\".format(rollno[st],name[st]))\n",
    "print('**************************')\n",
    "\n",
    "#3- read data using range function becouse when we don't know about any lenght and we print the serial number also\n",
    "print(\"This is using 'range' Function\")    \n",
    "for serial1 in range(0,len(name)):\n",
    "    print(serial1,name[serial1])\n",
    "\n",
    "#4-read data using zip function\n",
    "print(\"This is using 'zip' function\")\n",
    "for rollno,name in zip(rollno,name):\n",
    "    print(rollno,name)\n",
    "    "
   ]
  },
  {
   "cell_type": "code",
   "execution_count": null,
   "id": "acfaa273",
   "metadata": {},
   "outputs": [],
   "source": []
  },
  {
   "cell_type": "code",
   "execution_count": null,
   "id": "3cf5e8f7",
   "metadata": {},
   "outputs": [],
   "source": []
  }
 ],
 "metadata": {
  "kernelspec": {
   "display_name": "Python 3",
   "language": "python",
   "name": "python3"
  },
  "language_info": {
   "codemirror_mode": {
    "name": "ipython",
    "version": 3
   },
   "file_extension": ".py",
   "mimetype": "text/x-python",
   "name": "python",
   "nbconvert_exporter": "python",
   "pygments_lexer": "ipython3",
   "version": "3.6.7"
  }
 },
 "nbformat": 4,
 "nbformat_minor": 5
}
