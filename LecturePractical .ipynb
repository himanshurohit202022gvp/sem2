{
 "cells": [
  {
   "cell_type": "code",
   "execution_count": 3,
   "id": "a271acf0",
   "metadata": {},
   "outputs": [
    {
     "name": "stdout",
     "output_type": "stream",
     "text": [
      "Hello World\n",
      "<class 'str'>\n"
     ]
    }
   ],
   "source": [
    "greetings=\"Hello World\"\n",
    "print(greetings)\n",
    "print(type(greetings))"
   ]
  },
  {
   "cell_type": "code",
   "execution_count": 4,
   "id": "e48c0f22",
   "metadata": {},
   "outputs": [
    {
     "name": "stdout",
     "output_type": "stream",
     "text": [
      "<class 'str'>\n"
     ]
    }
   ],
   "source": [
    "no=6266\n",
    "no='hshj'\n",
    "print(type(no))"
   ]
  },
  {
   "cell_type": "code",
   "execution_count": 6,
   "id": "91cf6fca",
   "metadata": {},
   "outputs": [
    {
     "data": {
      "text/plain": [
       "True"
      ]
     },
     "execution_count": 6,
     "metadata": {},
     "output_type": "execute_result"
    }
   ],
   "source": [
    "s='xyz'\n",
    "type(s)==str"
   ]
  },
  {
   "cell_type": "code",
   "execution_count": 33,
   "id": "277de2fd",
   "metadata": {},
   "outputs": [
    {
     "ename": "NameError",
     "evalue": "name 'C' is not defined",
     "output_type": "error",
     "traceback": [
      "\u001b[1;31m---------------------------------------------------------------------------\u001b[0m",
      "\u001b[1;31mNameError\u001b[0m                                 Traceback (most recent call last)",
      "\u001b[1;32m<ipython-input-33-b460a15767d9>\u001b[0m in \u001b[0;36m<module>\u001b[1;34m\u001b[0m\n\u001b[0;32m     10\u001b[0m \u001b[0mc\u001b[0m\u001b[1;33m=\u001b[0m \u001b[1;32mTrue\u001b[0m \u001b[1;33m+\u001b[0m\u001b[1;36m4\u001b[0m\u001b[1;33m\u001b[0m\u001b[1;33m\u001b[0m\u001b[0m\n\u001b[0;32m     11\u001b[0m \u001b[0mc\u001b[0m\u001b[1;33m=\u001b[0m \u001b[0mc\u001b[0m\u001b[1;33m+\u001b[0m\u001b[1;36m3\u001b[0m\u001b[1;33m\u001b[0m\u001b[1;33m\u001b[0m\u001b[0m\n\u001b[1;32m---> 12\u001b[1;33m \u001b[0mC\u001b[0m\u001b[1;33m\u001b[0m\u001b[1;33m\u001b[0m\u001b[0m\n\u001b[0m",
      "\u001b[1;31mNameError\u001b[0m: name 'C' is not defined"
     ]
    }
   ],
   "source": [
    "# a=-5\n",
    "# b=abs(a** 2)\n",
    "# b= False - True\n",
    "\n",
    "# True or False\n",
    "# True and 0\n",
    "# not True\n",
    "# not False\n",
    "\n",
    "c= True + 4\n",
    "c= c+3\n",
    "C"
   ]
  },
  {
   "cell_type": "code",
   "execution_count": 39,
   "id": "86669853",
   "metadata": {},
   "outputs": [
    {
     "name": "stdout",
     "output_type": "stream",
     "text": [
      "p\n"
     ]
    },
    {
     "data": {
      "text/plain": [
       "'gvp-ahmedabad campus'"
      ]
     },
     "execution_count": 39,
     "metadata": {},
     "output_type": "execute_result"
    }
   ],
   "source": [
    "#String\n",
    "\n",
    "state=\"vidyapith\"\n",
    "#state[0]=\"R\"\n",
    "print(state[5])\n",
    "state\n",
    "'gvp-'+'ahmedabad campus'"
   ]
  },
  {
   "cell_type": "code",
   "execution_count": 37,
   "id": "d9cfc5c3",
   "metadata": {},
   "outputs": [
    {
     "data": {
      "text/plain": [
       "'jai hindjai hindjai hind'"
      ]
     },
     "execution_count": 37,
     "metadata": {},
     "output_type": "execute_result"
    }
   ],
   "source": [
    "s='jai hind'*3\n",
    "s"
   ]
  },
  {
   "cell_type": "code",
   "execution_count": 51,
   "id": "2c0f3555",
   "metadata": {},
   "outputs": [
    {
     "ename": "SyntaxError",
     "evalue": "can't assign to comparison (<ipython-input-51-fa50d3e7d56a>, line 5)",
     "output_type": "error",
     "traceback": [
      "\u001b[1;36m  File \u001b[1;32m\"<ipython-input-51-fa50d3e7d56a>\"\u001b[1;36m, line \u001b[1;32m5\u001b[0m\n\u001b[1;33m    equl==op=9\u001b[0m\n\u001b[1;37m              ^\u001b[0m\n\u001b[1;31mSyntaxError\u001b[0m\u001b[1;31m:\u001b[0m can't assign to comparison\n"
     ]
    }
   ],
   "source": [
    "#Invalid Variable declaration\n",
    "#3a=12\n",
    "#@A_34=\"Hello\"\n",
    "#Op*ver=7.9\n",
    "#(brea=123\n",
    "#equl==op=9"
   ]
  },
  {
   "cell_type": "code",
   "execution_count": 73,
   "id": "af7931db",
   "metadata": {},
   "outputs": [
    {
     "data": {
      "text/plain": [
       "9"
      ]
     },
     "execution_count": 73,
     "metadata": {},
     "output_type": "execute_result"
    }
   ],
   "source": [
    "#valid Variable declaration\n",
    "#a3=12\n",
    "#a_34=\"Hello\"\n",
    "#op_12ver=9.9\n",
    "#_spacevar=123\n",
    "#Capita_capita=9"
   ]
  },
  {
   "cell_type": "code",
   "execution_count": 97,
   "id": "c2eeebf1",
   "metadata": {},
   "outputs": [
    {
     "data": {
      "text/plain": [
       "['Gujarat', 'Vidyapith']"
      ]
     },
     "execution_count": 97,
     "metadata": {},
     "output_type": "execute_result"
    }
   ],
   "source": [
    "#22-04-2021\n",
    "#print([] or False)\n",
    "#print(False or 'hello')\n",
    "#print(2.5 or False)\n",
    "#Slicing(Importanat for print start,stop,step)\n",
    "se=\"Gujarat Vidyapith\"\n",
    "#se[0:3]\n",
    "se[::-1]\n",
    "se.count('a')\n",
    "se.index('Vid')\n",
    "s='replase'\n",
    "s.replace('s','c')\n",
    "se.split()"
   ]
  },
  {
   "cell_type": "code",
   "execution_count": 120,
   "id": "d7a732bb",
   "metadata": {},
   "outputs": [
    {
     "name": "stdout",
     "output_type": "stream",
     "text": [
      "9999999999999999999ab 2\n",
      " 3.14\n",
      "     3.142\n"
     ]
    }
   ],
   "source": [
    "#Formating String important for print string \n",
    "# a=2\n",
    "# b=9\n",
    "# \"{} and {}\".format(b,a)\n",
    "# #\"{} and {}\".format(\"a\",\"b\")\n",
    "# i,j=12,20.5\n",
    "# print(\"{1} {0}\".format(i,j))\n",
    "# print(\"{} {}\".format(\"9ab\",2))\n",
    "#Padding\n",
    "print(\"{:>5} {}\".format(\"9999999999999999999ab\",2))\n",
    "# print(\"{:<5} {}\".format(\"9ab\",2))\n",
    "pi=3.1416\n",
    "print(\"{:5.2f}\".format(pi))\n",
    "print(\"{:10.3f}\".format(pi))"
   ]
  },
  {
   "cell_type": "code",
   "execution_count": 127,
   "id": "851520d7",
   "metadata": {},
   "outputs": [
    {
     "name": "stdout",
     "output_type": "stream",
     "text": [
      "<class 'int'>\n"
     ]
    },
    {
     "data": {
      "text/plain": [
       "12"
      ]
     },
     "execution_count": 127,
     "metadata": {},
     "output_type": "execute_result"
    }
   ],
   "source": [
    "#Type Conversion\n",
    "i=float(\"10\")\n",
    "i=int(12.12)\n",
    "print(type(i))\n",
    "i"
   ]
  },
  {
   "cell_type": "code",
   "execution_count": 148,
   "id": "35abedfd",
   "metadata": {},
   "outputs": [
    {
     "name": "stdout",
     "output_type": "stream",
     "text": [
      "[1, 2, 4, 'Himanshu']\n",
      "<class 'list'>\n"
     ]
    },
    {
     "data": {
      "text/plain": [
       "['Himanshu']"
      ]
     },
     "execution_count": 148,
     "metadata": {},
     "output_type": "execute_result"
    }
   ],
   "source": [
    "#Chapter 2 \n",
    "#Container\n",
    "#1-List\n",
    "\n",
    "l1=[]\n",
    "l2=list()\n",
    "type(l2)\n",
    "l3=[1,2,4,'Himanshu']\n",
    "l3\n",
    "len(l3)\n",
    "print(l3)\n",
    "print(type(list(l3)))\n",
    "type(l3)\n",
    "l2.append(\"Himanshu\")\n",
    "l2.insert(1,\"Rohit\")\n",
    "l2.remove(\"Rohit\") \n",
    "\n",
    "l2"
   ]
  },
  {
   "cell_type": "code",
   "execution_count": null,
   "id": "60132cc2",
   "metadata": {},
   "outputs": [],
   "source": [
    "#27-04-2021\n",
    "#Dictionary\n",
    "#set"
   ]
  },
  {
   "cell_type": "code",
   "execution_count": 12,
   "id": "b968f889",
   "metadata": {},
   "outputs": [
    {
     "name": "stdout",
     "output_type": "stream",
     "text": [
      "dict_items([(123, 'Ahmedabad'), (1234, 'Ahmedabad'), (12345, 'Ahmedabad')])\n",
      "dict_keys([123, 1234, 12345])\n",
      "{0: 0, 1: 1, 2: 4, 3: 9, 4: 16, 5: 25}\n",
      "{0: 0}\n",
      "{0: 0, 1: 1}\n",
      "{0: 0, 1: 1, 2: 4}\n",
      "{0: 0, 1: 1, 2: 4, 3: 9}\n",
      "{0: 0, 1: 1, 2: 4, 3: 9, 4: 16}\n",
      "{0: 0, 1: 1, 2: 4, 3: 9, 4: 16, 5: 25}\n",
      "{0: 0, 2: 4, 4: 16}\n",
      "{0: 0, 2: 4, 4: 16, 6: 36, 8: 64}\n",
      "0\n",
      "2\n",
      "4\n",
      "6\n",
      "8\n"
     ]
    }
   ],
   "source": [
    "#28-04-2021\n",
    "#fromkeys\n",
    "stu_dict={}.fromkeys([123,1234,12345],'Ahmedabad')\n",
    "stu_dict\n",
    "#HW->Advance version of fromkeys\n",
    "#items \n",
    "print(stu_dict.items())\n",
    "#keys\n",
    "print(stu_dict.keys())\n",
    "\n",
    "#----Importanat Topic----#\n",
    "#Python Dictionary Comprehension\n",
    "x=1\n",
    "squ={x: x*x for x in range(6)}\n",
    "print(squ)\n",
    "\n",
    "squers={}\n",
    "for x in range(6):\n",
    "    squers[x]=x*x\n",
    "    print(squers)\n",
    "evesqu={x: x*x for x in range(6) if x % 2 !=1}\n",
    "print(evesqu)\n",
    "\n",
    "evens={}\n",
    "\n",
    "for x in range(10):\n",
    "    if x % 2 == 0:\n",
    "        evens[x]=x*x\n",
    "print(evens)\n",
    "\n",
    "for x in evens:\n",
    "    print(x)\n",
    "#Range Function Home work\n"
   ]
  },
  {
   "cell_type": "code",
   "execution_count": 71,
   "id": "4124461c",
   "metadata": {},
   "outputs": [
    {
     "name": "stdout",
     "output_type": "stream",
     "text": [
      "Enter Range to find divisable by 5  , 3 and 5 ->\n",
      "20\n",
      "Divisable by 5 -> {0: 0, 5: 5, 10: 10, 15: 15}\n",
      "Divisable by 3 and 5 -> {0: 0, 15: 15}\n",
      "dict_values([1, 1, 2, 3, 5, 8, 13, 21, 34, 55, 89, 144, 233, 377, 610, 987, 1597, 2584, 4181, 6765])\n",
      "{0: 1, 1: 1, 2: 2, 3: 3, 4: 5, 5: 8, 6: 13, 7: 21, 8: 34, 9: 55, 10: 89, 11: 144, 12: 233, 13: 377, 14: 610, 15: 987, 16: 1597, 17: 2584, 18: 4181, 19: 6765}\n",
      "This is Prime Number -> 20\n",
      "This is Prime Number -> 20\n",
      "This is Prime Number -> 20\n",
      "This is Prime Number -> 20\n"
     ]
    }
   ],
   "source": [
    "#Home Work\n",
    "#Que->Find Number only divisible by 5\n",
    "#Empty Dictionary\n",
    "divi5={}\n",
    "print(\"Enter Range to find divisable by 5  , 3 and 5 ->\")\n",
    "number=int(input())\n",
    "#logic for Division\n",
    "for x in range(number):\n",
    "    if x%5 == 0:\n",
    "        divi5[x]=x\n",
    "#If user enter only 5 than return the 5 only divisible by 5\n",
    "lan=len(divi5)\n",
    "if(lan<=1):\n",
    "        print(\"5 is only divisible by 5\")\n",
    "print(\"Divisable by 5 ->\",divi5)\n",
    "\n",
    "\n",
    "divi35={}\n",
    "for x in range(number):\n",
    "    if x%3==0 and x%5==0:\n",
    "        divi35[x]=x\n",
    "        \n",
    "lan1=len(divi35)\n",
    "if(lan1<=1):\n",
    "    print(\"15 only Divisible by 3 and 5\")\n",
    "print(\"Divisable by 3 and 5 ->\",divi35)\n",
    "\n",
    "#Fibonacci\n",
    "no1=0\n",
    "no2=1\n",
    "fibonacci={}\n",
    "for x in range(number):\n",
    "    \n",
    "    no3=no1+no2\n",
    "    no2=no1\n",
    "    no1=no3\n",
    "    fibonacci[x]=no3\n",
    "print(fibonacci.values())\n",
    "print(fibonacci)\n",
    "\n",
    "\n",
    "#Prime Number\n",
    "\n",
    "flag=0\n",
    "m=int(number/2)\n",
    "#x=2\n",
    "for x in range(1,m):\n",
    "    if(number%x==0):\n",
    "        print(\"This is Prime Number ->\",number)\n",
    "        flag=1\n",
    "    elif(flag==0):\n",
    "        print(\"This is not Prime Number ->\",number)\n",
    "    #return 0\n"
   ]
  },
  {
   "cell_type": "code",
   "execution_count": 1,
   "id": "ff57dc4b",
   "metadata": {},
   "outputs": [
    {
     "name": "stdout",
     "output_type": "stream",
     "text": [
      "44 is > 34\n"
     ]
    }
   ],
   "source": [
    "#29-04-2021\n",
    "#Python Flow Control and Function'\n",
    "#1-Python Flow Control\n",
    "\n",
    "a=44\n",
    "b=34\n",
    "if a>b:\n",
    "    #Formmating String\n",
    "    print(\"{} is > {}\".format(a,b))"
   ]
  },
  {
   "cell_type": "code",
   "execution_count": 3,
   "id": "3afe4b66",
   "metadata": {},
   "outputs": [
    {
     "name": "stdout",
     "output_type": "stream",
     "text": [
      "r\n"
     ]
    }
   ],
   "source": [
    "a='r'\n",
    "b='R'\n",
    "c='j'\n",
    "if a > b:\n",
    "    print(a)\n",
    "elif b>c:\n",
    "    print(b)\n",
    "else:\n",
    "    print(c)"
   ]
  },
  {
   "cell_type": "code",
   "execution_count": 8,
   "id": "c8d70ccb",
   "metadata": {},
   "outputs": [
    {
     "name": "stdout",
     "output_type": "stream",
     "text": [
      "Enter any Number -> -2.0\n",
      "Negative Number\n"
     ]
    }
   ],
   "source": [
    "#Python nested if and elif\n",
    "num=float(input(\"Enter any Number -> \"))\n",
    "if num>=0:\n",
    "    \n",
    "    if num==0:\n",
    "        print(\"Zero\")\n",
    "    else:\n",
    "        print(\"Number is Positive!!\")\n",
    "else:\n",
    "    print(\"Negative Number\")"
   ]
  },
  {
   "cell_type": "code",
   "execution_count": 13,
   "id": "8eafbb58",
   "metadata": {},
   "outputs": [
    {
     "name": "stdout",
     "output_type": "stream",
     "text": [
      "g\n"
     ]
    }
   ],
   "source": [
    "a='ram'\n",
    "b='ran'\n",
    "if b>a:\n",
    "    print(\"g\")\n",
    "elif a==b:\n",
    "    print(\"bhjd\")\n",
    "else:\n",
    "    print(\"ghjgdnhgdshgfj\")\n",
    "    \n",
    "    "
   ]
  },
  {
   "cell_type": "code",
   "execution_count": 15,
   "id": "f58a447d",
   "metadata": {},
   "outputs": [
    {
     "name": "stdout",
     "output_type": "stream",
     "text": [
      "True\n"
     ]
    }
   ],
   "source": [
    "if a<b:print(\"True\")# this is also true"
   ]
  },
  {
   "cell_type": "code",
   "execution_count": 26,
   "id": "e05e8324",
   "metadata": {},
   "outputs": [
    {
     "name": "stdout",
     "output_type": "stream",
     "text": [
      "A\n",
      "if bloc\n"
     ]
    }
   ],
   "source": [
    "print(\"A\") or print(\"if bloc\")if a<b else print(\"B\")#Right syntax #que multiple statement hoy to kemna lakhay print(\"A\") vara"
   ]
  },
  {
   "cell_type": "code",
   "execution_count": 22,
   "id": "22053a99",
   "metadata": {},
   "outputs": [
    {
     "name": "stdout",
     "output_type": "stream",
     "text": [
      "y\n"
     ]
    }
   ],
   "source": [
    "x=22\n",
    "y=0o22\n",
    "print(\"x\") if x>y else print(\"x\")#zero agad na lakhi sakay y=0o22 o lakhvo pade agad octal integer banavava mate"
   ]
  },
  {
   "cell_type": "code",
   "execution_count": 29,
   "id": "1040181a",
   "metadata": {},
   "outputs": [
    {
     "name": "stdout",
     "output_type": "stream",
     "text": [
      "0\n"
     ]
    }
   ],
   "source": [
    "a=0#or and condition\n",
    "b=2\n",
    "c=0\n",
    "if a>b or b>c:\n",
    "    print(c)"
   ]
  },
  {
   "cell_type": "code",
   "execution_count": 34,
   "id": "e53e76cb",
   "metadata": {},
   "outputs": [
    {
     "name": "stdout",
     "output_type": "stream",
     "text": [
      "Enter no 110\n",
      "Enter no 220\n"
     ]
    }
   ],
   "source": [
    "#pass statement\n",
    "a=int(input(\"Enter no 1\"))\n",
    "b=int(input(\"Enter no 2\"))\n",
    "if a>b:\n",
    "    print(a)\n",
    "else:\n",
    "    #print(b)\n",
    "    pass"
   ]
  },
  {
   "cell_type": "code",
   "execution_count": 7,
   "id": "ef26d8dd",
   "metadata": {},
   "outputs": [
    {
     "name": "stdout",
     "output_type": "stream",
     "text": [
      "0 Even Number\n",
      "1 Odd  Number\n",
      "1\n"
     ]
    }
   ],
   "source": [
    "#03-05-2021\n",
    "\n",
    "t=0\n",
    "while t < 10 and t % 2 == 0:\n",
    "        print(\"{} Even Number\".format(t))\n",
    "        t=t+1\n",
    "      \n",
    "      \n",
    "else:\n",
    "    print(\"{} Odd  Number\".format(t))\n",
    "print(t)  "
   ]
  },
  {
   "cell_type": "code",
   "execution_count": 11,
   "id": "c874ccac",
   "metadata": {},
   "outputs": [
    {
     "name": "stdout",
     "output_type": "stream",
     "text": [
      "F\n",
      "o\n",
      "o\n",
      " \n",
      "l\n",
      "o\n",
      "o\n",
      "p\n",
      " \n",
      "e\n",
      "a\n",
      "l\n",
      "l\n",
      "End\n"
     ]
    }
   ],
   "source": [
    "s='Foor loop really'\n",
    "for c in s:\n",
    "    if c > 'p':\n",
    "        #break\n",
    "        continue\n",
    "    print(c)\n",
    "print('End')"
   ]
  },
  {
   "cell_type": "code",
   "execution_count": 20,
   "id": "3dc37d88",
   "metadata": {},
   "outputs": [
    {
     "name": "stdout",
     "output_type": "stream",
     "text": [
      "GUJARAT vidyapith\n",
      "GUJARAT vidyapith\n",
      "GUJARAT vidyapith\n",
      "GUJARAT vidyapith\n",
      "GUJARAT vidyapith\n",
      "GUJARAT vidyapith\n",
      "GUJARAT vidyapith\n",
      "GUJARAT vidyapith\n",
      "GUJARAT vidyapith\n"
     ]
    },
    {
     "ename": "IndexError",
     "evalue": "string index out of range",
     "output_type": "error",
     "traceback": [
      "\u001b[1;31m---------------------------------------------------------------------------\u001b[0m",
      "\u001b[1;31mIndexError\u001b[0m                                Traceback (most recent call last)",
      "\u001b[1;32m<ipython-input-20-6797d2d97c70>\u001b[0m in \u001b[0;36m<module>\u001b[1;34m\u001b[0m\n\u001b[0;32m      4\u001b[0m \u001b[1;31m#output GJRT vdypth\u001b[0m\u001b[1;33m\u001b[0m\u001b[1;33m\u001b[0m\u001b[1;33m\u001b[0m\u001b[0m\n\u001b[0;32m      5\u001b[0m \u001b[1;32mfor\u001b[0m \u001b[0mi\u001b[0m \u001b[1;32min\u001b[0m \u001b[0mrange\u001b[0m\u001b[1;33m(\u001b[0m\u001b[1;36m0\u001b[0m\u001b[1;33m,\u001b[0m\u001b[1;36m100\u001b[0m\u001b[1;33m)\u001b[0m\u001b[1;33m:\u001b[0m\u001b[1;33m\u001b[0m\u001b[1;33m\u001b[0m\u001b[0m\n\u001b[1;32m----> 6\u001b[1;33m     \u001b[1;32mif\u001b[0m \u001b[0ma\u001b[0m\u001b[1;33m[\u001b[0m\u001b[0mi\u001b[0m\u001b[1;33m]\u001b[0m\u001b[1;33m==\u001b[0m\u001b[0mb\u001b[0m\u001b[1;33m[\u001b[0m\u001b[0mi\u001b[0m\u001b[1;33m]\u001b[0m\u001b[1;33m:\u001b[0m\u001b[1;33m\u001b[0m\u001b[1;33m\u001b[0m\u001b[0m\n\u001b[0m\u001b[0;32m      7\u001b[0m         \u001b[1;32mcontinue\u001b[0m\u001b[1;33m\u001b[0m\u001b[1;33m\u001b[0m\u001b[0m\n\u001b[0;32m      8\u001b[0m     \u001b[1;32melse\u001b[0m\u001b[1;33m:\u001b[0m\u001b[1;33m\u001b[0m\u001b[1;33m\u001b[0m\u001b[0m\n",
      "\u001b[1;31mIndexError\u001b[0m: string index out of range"
     ]
    }
   ],
   "source": [
    "#write a program to give string without artical using continue statement\n",
    "a=\"aeiouAEIOU\"\n",
    "b=\"GUJARAT vidyapith\"\n",
    "#output GJRT vdypth\n",
    "for i in range(0,100):\n",
    "    if a[i]==b[i]:\n",
    "        continue\n",
    "    else:\n",
    "        print(b)\n"
   ]
  },
  {
   "cell_type": "code",
   "execution_count": 24,
   "id": "f2928f6b",
   "metadata": {},
   "outputs": [],
   "source": [
    "def Srev(mystring):\n",
    "    \"\"\"This is doc string body\n",
    "    \"\"\"\n",
    "    print(mystring[::-1])\n",
    "    #Whin Function return nothing then output is with none"
   ]
  },
  {
   "cell_type": "code",
   "execution_count": 26,
   "id": "18ac671c",
   "metadata": {},
   "outputs": [
    {
     "name": "stdout",
     "output_type": "stream",
     "text": [
      "htipaydiV tarajuG\n",
      "None\n",
      "This is doc string body\n",
      "    \n"
     ]
    }
   ],
   "source": [
    "s=\"Gujarat Vidyapith\"\n",
    "print(Srev(s))\n",
    "print(Srev.__doc__)"
   ]
  },
  {
   "cell_type": "code",
   "execution_count": 42,
   "id": "dbe8cf4e",
   "metadata": {},
   "outputs": [
    {
     "name": "stdout",
     "output_type": "stream",
     "text": [
      "hello\n",
      "hi ,World\n",
      "Enter your number -> 2\n",
      "opps now I am ->  3\n",
      "Its time to remember your password !!! \n",
      "Tue May  4 10:47:24 2021\n",
      "Enter your number -> 12\n",
      "Opps try after some time !!!\n"
     ]
    }
   ],
   "source": [
    "def abc(who):\n",
    "    print(\"hello\")\n",
    "    def bcd():\n",
    "            print(f\"hi ,{who}\")\n",
    "    bcd()\n",
    "\n",
    "        \n",
    "if __name__=='__main__':\n",
    "        abc(\"World\")\n",
    "    \n",
    "import time\n",
    "        \n",
    "def increment(num):\n",
    "    def inner_incre():\n",
    "        return num+1\n",
    "    return inner_incre()\n",
    "if __name__=='__main__':\n",
    "    \n",
    "    while(True):\n",
    "        i=int(input(\"Enter your number -> \"))\n",
    "        if i < 10:\n",
    "            \n",
    "            print(\"opps now I am -> \", increment(i))\n",
    "            i=i+1\n",
    "            ti=time.ctime()\n",
    "            print(\"Its time to remember your password !!! \")\n",
    "            time.sleep(10)\n",
    "            ti1=time.ctime()\n",
    "            print(ti)\n",
    "        elif i>10:\n",
    "            print(\"Opps try after some time !!!\")\n",
    "            break\n",
    "        else:\n",
    "            break\n",
    "           \n",
    "        \n",
    "        "
   ]
  },
  {
   "cell_type": "code",
   "execution_count": 4,
   "id": "6ccc3066",
   "metadata": {},
   "outputs": [
    {
     "name": "stdout",
     "output_type": "stream",
     "text": [
      "1- Maximum Number \n",
      "1- Manimum Number \n",
      "1- Mean / Avrage \n",
      "1- Distance  \n",
      "Enter Your choice!!-> 1\n",
      "Enter Maximum elements you want5\n",
      "Enter Elements->6\n",
      "Enter Elements->9\n",
      "Enter Elements->100\n",
      "Enter Elements->2\n",
      "Enter Elements->300\n",
      "Maximum number is ->  300\n"
     ]
    }
   ],
   "source": [
    "#03-05-2021 Home work--Write  min,max,mean and distance function without using inbuild function and using list\n",
    "numbers=[]\n",
    "def mymax(mylist):\n",
    "    maximum=numbers[0]\n",
    "    for i in numbers:\n",
    "        if i > maximum:\n",
    "            \n",
    "            maximum=i\n",
    "    return maximum\n",
    "    \n",
    "def mymin(mylist):\n",
    "    minimum=numbers[0]\n",
    "    for i in numbers:\n",
    "        if i < minimum:\n",
    "            minimum=i\n",
    "    return minimum\n",
    "        \n",
    "        \n",
    "def mymean(mylist):\n",
    "    total=0\n",
    "    for i in range(len(numbers)):\n",
    "        total=total+numbers[i]\n",
    "    print(\"Sum of Elements is :\",total)\n",
    "    calmean=abs(total/elements)\n",
    "    return calmean\n",
    "        \n",
    "\n",
    "def mydistance(a1,a2,b1,b2):\n",
    "    distance=abs(((a1-b1)**2)+((a2-b2)**2))\n",
    "    return distance**0.5\n",
    "        \n",
    "def collectlist(dotask):\n",
    "    elements=int(input(\"Enter Maximum elements you want\"))\n",
    "    for ele in range(0,elements):\n",
    "        element=int(input(\"Enter Elements->\"))\n",
    "        numbers.append(element)\n",
    "    if dotask==1:\n",
    "        mymax(numbers)\n",
    "    elif dotask==2:\n",
    "        mymin(numbers)\n",
    "    elif dotask==3:\n",
    "        mymean(numbers)\n",
    "    else:\n",
    "        print(\"Opps crase the program\")\n",
    "        \n",
    "        \n",
    "        \n",
    "if __name__=='__main__':\n",
    "    \n",
    "        \n",
    "        \n",
    "    print(\"1- Maximum Number \")\n",
    "    print(\"1- Manimum Number \")\n",
    "    print(\"1- Mean / Avrage \")\n",
    "    print(\"1- Distance  \")\n",
    "    ch=int(input(\"Enter Your choice!!-> \"))\n",
    "    \n",
    "    if ch ==1:\n",
    "        collectlist(ch)\n",
    "        print(\"Maximum number is -> \",mymax(numbers))\n",
    "    elif ch==2:\n",
    "        collectlist()\n",
    "        print(\"Minimum Number is -> \",mymin(numbers))\n",
    "    elif ch==3:\n",
    "        collectlist()\n",
    "        print(\"Mean/ Avrage is -> \",mymean(numbers))\n",
    "    elif ch==4:\n",
    "        x1=int(input(\"Enter X1 exis ->\"))\n",
    "        x2=int(input(\"Enter X2 Exis ->\"))\n",
    "        y1=int(input(\"Enter Y1 exis ->\"))\n",
    "        y2=int(input(\"Enter Y2 Exis ->\"))\n",
    "        print(\"Distance is -> \",mydistance(x1,x2,y1,y2))\n",
    "\n",
    "    "
   ]
  },
  {
   "cell_type": "code",
   "execution_count": 42,
   "id": "7e8ad8c0",
   "metadata": {},
   "outputs": [
    {
     "ename": "IndexError",
     "evalue": "list index out of range",
     "output_type": "error",
     "traceback": [
      "\u001b[1;31m---------------------------------------------------------------------------\u001b[0m",
      "\u001b[1;31mIndexError\u001b[0m                                Traceback (most recent call last)",
      "\u001b[1;32m<ipython-input-42-551d5b5bd7d8>\u001b[0m in \u001b[0;36m<module>\u001b[1;34m\u001b[0m\n\u001b[0;32m     64\u001b[0m \u001b[0mli\u001b[0m\u001b[1;33m=\u001b[0m\u001b[1;33m[\u001b[0m\u001b[1;36m1\u001b[0m\u001b[1;33m,\u001b[0m\u001b[1;36m2\u001b[0m\u001b[1;33m,\u001b[0m\u001b[1;36m3\u001b[0m\u001b[1;33m,\u001b[0m\u001b[1;36m4\u001b[0m\u001b[1;33m]\u001b[0m\u001b[1;33m\u001b[0m\u001b[1;33m\u001b[0m\u001b[0m\n\u001b[0;32m     65\u001b[0m \u001b[1;32mfor\u001b[0m \u001b[0mi\u001b[0m \u001b[1;32min\u001b[0m \u001b[0mli\u001b[0m\u001b[1;33m:\u001b[0m\u001b[1;33m\u001b[0m\u001b[1;33m\u001b[0m\u001b[0m\n\u001b[1;32m---> 66\u001b[1;33m       \u001b[0mli\u001b[0m\u001b[1;33m[\u001b[0m\u001b[0mi\u001b[0m\u001b[1;33m]\u001b[0m\u001b[1;33m\u001b[0m\u001b[1;33m\u001b[0m\u001b[0m\n\u001b[0m\u001b[0;32m     67\u001b[0m \u001b[0mli\u001b[0m\u001b[1;33m\u001b[0m\u001b[1;33m\u001b[0m\u001b[0m\n",
      "\u001b[1;31mIndexError\u001b[0m: list index out of range"
     ]
    }
   ],
   "source": [
    "#03-05-2021\n",
    "\n",
    "#1-global\n",
    "#2-nonglobal\n",
    "#3-None assigning to a variable\n",
    "#4-python keyword arguments\n",
    "#5-recursive Function->Same function call in same function\n",
    "#6-Python Anonymous/Lambda Function->Anonymous Function is Without name,define using Lambda Keyword\n",
    "\n",
    "\n",
    "#Home work\n",
    "\n",
    "#Write factorial function using recursion function\n",
    "#None\n",
    "\n",
    "def air_cal(a,b,c=None):\n",
    "    if (c==None):\n",
    "        return a+b\n",
    "    else:\n",
    "        return a+b+c\n",
    "air_cal(1,2,10)\n",
    "\n",
    "\n",
    "def air_cal_WithFlag(a,b,c=None,flag=True):\n",
    "    if (flag):\n",
    "        if (c==None):\n",
    "            return a+b\n",
    "        else:\n",
    "            return a+b+c\n",
    "        \n",
    "    else:\n",
    "        print('Function do nothing')\n",
    "#air_cal_WithFlag(1,2,10,False)\n",
    "\n",
    "def air_cal_WithKeyword(a,b,c='add',flag=True):\n",
    "    if (flag):\n",
    "        if (c=='add'):\n",
    "            return a+b\n",
    "        else:\n",
    "            return a-b\n",
    "        \n",
    "    else:\n",
    "        print('Function do nothing')\n",
    "air_cal_WithKeyword(1,3,True)\n",
    "\n",
    "\n",
    "\n",
    "def fact(no):\n",
    "    if(no<=1):\n",
    "        return 1\n",
    "    else:\n",
    "        return no*fact(no-1)\n",
    "fact(2.2)\n",
    "\n",
    "\n",
    "# def rec():\n",
    "#     rec()\n",
    "# rec()#maximum recursion depth exceeded Base condition thi e stop thay jay chhe acll up to 1000 time without any condition not write a recursion function\n",
    "#Lambda Function\n",
    "l=[1,2,3,4]\n",
    "mys=list(map(lambda a:a+2,l))\n",
    "mys\n",
    "\n",
    "li=[1,2,3,4]\n",
    "for i in li:\n",
    "      li1[i]=li[i]=+2\n",
    "li"
   ]
  },
  {
   "cell_type": "code",
   "execution_count": null,
   "id": "8090daef",
   "metadata": {},
   "outputs": [],
   "source": []
  }
 ],
 "metadata": {
  "kernelspec": {
   "display_name": "Python 3",
   "language": "python",
   "name": "python3"
  },
  "language_info": {
   "codemirror_mode": {
    "name": "ipython",
    "version": 3
   },
   "file_extension": ".py",
   "mimetype": "text/x-python",
   "name": "python",
   "nbconvert_exporter": "python",
   "pygments_lexer": "ipython3",
   "version": "3.6.7"
  }
 },
 "nbformat": 4,
 "nbformat_minor": 5
}
