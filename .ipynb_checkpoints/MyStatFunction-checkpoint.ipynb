{
 "cells": [
  {
   "cell_type": "code",
   "execution_count": 82,
   "id": "4f5ea4d4",
   "metadata": {},
   "outputs": [
    {
     "name": "stdout",
     "output_type": "stream",
     "text": [
      "This Mean,Midean and Mode find Program\n",
      "\n",
      "Enter 1 for Mean\n",
      "\n",
      "Enter 2 for Midean\n",
      "\n",
      "Enter 3 for Mod\n",
      "\n",
      "1\n",
      "Enter Number of elements that you want to insert\n",
      "5\n",
      "6\n",
      "4\n",
      "6\n",
      "5\n",
      "5\n",
      "[6, 4, 6, 5, 5]\n",
      "Sum of elements is 26\n",
      "Mean is : 5.2\n",
      "[6, 4, 6, 5, 5]\n",
      "oops please choose valid choice\n"
     ]
    }
   ],
   "source": [
    "# import sys\n",
    "# !{sys.executable} -m pip install numpy\n",
    "# import numpy\n",
    "def mean():\n",
    "    total=0\n",
    "    print(\"Enter Number of elements that you want to insert\")\n",
    "    elements=[]\n",
    "    eleme=int(input())\n",
    "    for i in range(0,eleme):\n",
    "        ele=int(input())\n",
    "        elements.append(ele)\n",
    "        #total=total+elements[i]\n",
    "    print(elements)\n",
    "    #print(total)\n",
    "    \n",
    "    for el in range(0,len(elements)):\n",
    "        \n",
    "        total=total+elements[el]\n",
    "    print(\"Sum of elements is\",total)\n",
    "    print(\"Mean is :\",abs(total/eleme))\n",
    "    print(\"Python Library Mean is::\",abs(numpy.mean(elements)))\n",
    "\n",
    "    \n",
    "def midean():\n",
    "    print(\"This is Midean Function\")\n",
    "    total=0\n",
    "    print(\"Enter Number of elements that you want to insert\")\n",
    "    elements=[]\n",
    "    eleme=int(input())\n",
    "    for i in range(0,eleme):\n",
    "        ele=int(input())\n",
    "        elements.append(ele)\n",
    "        #total=total+elements[i]\n",
    "    print(elements)\n",
    "    #print(total)\n",
    "    if eleme%2==0:\n",
    "        \n",
    "        #print(\"Please wait !!!!\")\n",
    "        evenval=int((eleme)/2)\n",
    "        print(evenval)\n",
    "        midval1=elements[evenval-1]\n",
    "        print(\"Midval 1 is:\",midval1)\n",
    "        midval2=elements[evenval]\n",
    "        print(\"Midval 2 is:\",midval2)\n",
    "        midean1=abs((midval1+midval2)/2)\n",
    "        print(\"Midean is:\",midean1)\n",
    "    \n",
    "        \n",
    "    else:\n",
    "        midean1=int((eleme+1)/2)\n",
    "        print(\"Posistion of elements is\",midean1)\n",
    "        print(\"Midean is :\",elements[midean1-1])\n",
    "        \n",
    "\n",
    "    \n",
    "\n",
    "def mode():\n",
    "    print(\"This is mode function\")\n",
    "    \n",
    "\n",
    "print(\"This Mean,Midean and Mode find Program\\n\")\n",
    "\n",
    "print(\"Enter 1 for Mean\\n\")\n",
    "print(\"Enter 2 for Midean\\n\")\n",
    "print(\"Enter 3 for Mod\\n\")\n",
    "ch=int(input())\n",
    "try:\n",
    "    ch>0\n",
    "    while True:\n",
    "        \n",
    "        \n",
    "        if ch==1:\n",
    "            mean()\n",
    "        elif ch==2:\n",
    "            midean()\n",
    "        elif ch==3:\n",
    "            mode()\n",
    "        else:\n",
    "            print(\"Enter valid choice\")\n",
    "except:\n",
    "    print(\"oops please choose valid choice\")"
   ]
  },
  {
   "cell_type": "code",
   "execution_count": 39,
   "id": "ea445ed9",
   "metadata": {},
   "outputs": [
    {
     "name": "stdout",
     "output_type": "stream",
     "text": [
      "hello\n"
     ]
    }
   ],
   "source": [
    "list1=['hello',123,1,2,3,4]\n",
    "print(list1[0])"
   ]
  },
  {
   "cell_type": "code",
   "execution_count": null,
   "id": "b2a12fae",
   "metadata": {},
   "outputs": [],
   "source": []
  }
 ],
 "metadata": {
  "kernelspec": {
   "display_name": "Python 3",
   "language": "python",
   "name": "python3"
  },
  "language_info": {
   "codemirror_mode": {
    "name": "ipython",
    "version": 3
   },
   "file_extension": ".py",
   "mimetype": "text/x-python",
   "name": "python",
   "nbconvert_exporter": "python",
   "pygments_lexer": "ipython3",
   "version": "3.6.7"
  }
 },
 "nbformat": 4,
 "nbformat_minor": 5
}
