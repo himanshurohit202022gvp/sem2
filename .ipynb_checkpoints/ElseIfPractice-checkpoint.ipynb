{
 "cells": [
  {
   "cell_type": "code",
   "execution_count": 4,
   "id": "cced7c4c",
   "metadata": {},
   "outputs": [
    {
     "name": "stdout",
     "output_type": "stream",
     "text": [
      "This is check whether you are able to drive or not\n",
      "Enter Your Age->17\n",
      "You are not able to drive!!!\n"
     ]
    }
   ],
   "source": [
    "\n",
    "\n",
    "print(\"This is check whether you are able to drive or not\")\n",
    "age=int(input(\"Enter Your Age->\"))\n",
    "\n",
    "try:\n",
    "    age>0\n",
    "    while True:\n",
    "        \n",
    "        if(age>18):\n",
    "            print(\"You are able to drive!!\")\n",
    "\n",
    "        elif(age<18):\n",
    "            print(\"You are not able to drive!!!\")\n",
    "\n",
    "        elif(age==18):\n",
    "            print(\"We are not able to decide whether you are drive or not please visite phisical at office\")\n",
    "            \n",
    "except:\n",
    "    print(\"Please Enter valid Input!!\")"
   ]
  },
  {
   "cell_type": "code",
   "execution_count": null,
   "id": "519b7f9e",
   "metadata": {},
   "outputs": [],
   "source": []
  }
 ],
 "metadata": {
  "kernelspec": {
   "display_name": "Python 3",
   "language": "python",
   "name": "python3"
  },
  "language_info": {
   "codemirror_mode": {
    "name": "ipython",
    "version": 3
   },
   "file_extension": ".py",
   "mimetype": "text/x-python",
   "name": "python",
   "nbconvert_exporter": "python",
   "pygments_lexer": "ipython3",
   "version": "3.6.7"
  }
 },
 "nbformat": 4,
 "nbformat_minor": 5
}
